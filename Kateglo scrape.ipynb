{
 "cells": [
  {
   "cell_type": "code",
   "execution_count": 2,
   "metadata": {},
   "outputs": [],
   "source": [
    "import json\n",
    "from bs4 import BeautifulSoup as bs\n",
    "import requests\n",
    "import pandas as pd\n",
    "import time\n",
    "import glob"
   ]
  },
  {
   "cell_type": "code",
   "execution_count": 3,
   "metadata": {},
   "outputs": [],
   "source": [
    "filn = glob.glob('*.txt')"
   ]
  },
  {
   "cell_type": "code",
   "execution_count": 4,
   "metadata": {},
   "outputs": [],
   "source": [
    "f = open(filn[0],'r')\n",
    "cont = f.readlines()\n",
    "f.close()"
   ]
  },
  {
   "cell_type": "code",
   "execution_count": 5,
   "metadata": {},
   "outputs": [],
   "source": [
    "def removeDigits(mystr):\n",
    "    return ''.join(filter(lambda x: not x.isdigit(),mystr))\n"
   ]
  },
  {
   "cell_type": "code",
   "execution_count": 7,
   "metadata": {},
   "outputs": [],
   "source": [
    "definisi=[]\n",
    "def get_def(word):\n",
    "    urlsearch = 'http://kateglo.com/api.php?format=json&phrase='\n",
    "    word = removeDigits(word.replace('\\n',''))\n",
    "\n",
    "    page = requests.get(urlsearch+word)\n",
    "\n",
    "\n",
    "\n",
    "    print(\"Mengambil kata:\",word)\n",
    "    \n",
    "    try:\n",
    "        jss = pd.read_json(page.text)\n",
    "\n",
    "        for i in jss['kateglo']['definition']:\n",
    "            try:\n",
    "                res = word,i['def_text']\n",
    "                print(res)\n",
    "                definisi.append(res)\n",
    "            except:\n",
    "                pass\n",
    "            try:\n",
    "                res = word,i['sample'].replace('--',word)\n",
    "                print(res)\n",
    "                definisi.append(res)\n",
    "            except:\n",
    "                pass\n",
    "    except:\n",
    "        print(\"Error untuk kata:\",word)\n",
    "        pass"
   ]
  },
  {
   "cell_type": "code",
   "execution_count": 8,
   "metadata": {},
   "outputs": [
    {
     "name": "stdout",
     "output_type": "stream",
     "text": [
      "Mengambil kata: a\n",
      "('a', 'huruf pertama abjad Indonesia')\n",
      "('a', 'nama huruf a')\n",
      "('a', 'penanda pertama dalam urutan (mutu, nilai, dsb)')\n",
      "Mengambil kata: A\n",
      "('A', 'huruf pertama abjad Indonesia')\n",
      "('A', 'nama huruf a')\n",
      "('A', 'penanda pertama dalam urutan (mutu, nilai, dsb)')\n",
      "Mengambil kata: a-\n",
      "('a-', 'kekurangan')\n",
      "('a-', 'anemia')\n",
      "('a-', 'tidak atau bukan')\n",
      "('a-', 'aseksual')\n",
      "('a-', 'tanpa')\n",
      "('a-', 'anonim')\n",
      "Mengambil kata: a fortiori\n",
      "Error untuk kata: a fortiori\n",
      "Mengambil kata: a posteriori\n",
      "Error untuk kata: a posteriori\n",
      "Mengambil kata: a prima vista\n",
      "Error untuk kata: a prima vista\n",
      "Mengambil kata: a tempo\n",
      "Error untuk kata: a tempo\n",
      "Mengambil kata: A.B.\n",
      "Error untuk kata: A.B.\n",
      "Mengambil kata: A.Md.\n",
      "Error untuk kata: A.Md.\n",
      "Mengambil kata: a.n.\n",
      "Error untuk kata: a.n.\n",
      "Mengambil kata: A.P.\n",
      "Error untuk kata: A.P.\n",
      "Mengambil kata: A.Pkt.\n",
      "Error untuk kata: A.Pkt.\n",
      "Mengambil kata: a.s.\n",
      "Error untuk kata: a.s.\n",
      "Mengambil kata: a’a’a’aa\n",
      "Error untuk kata: a’a’a’aa\n",
      "Mengambil kata: AAL\n",
      "Error untuk kata: AAL\n",
      "Mengambil kata: AAU\n",
      "Error untuk kata: AAU\n",
      "Mengambil kata: ab-\n",
      "('ab-', 'dari; jauh dari')\n",
      "('ab-', 'abnormal')\n",
      "Mengambil kata: ab\n",
      "('ab', 'wadah kecil dari timah untuk candu; hap')\n",
      "('ab', 'ayah')\n",
      "Mengambil kata: AB\n",
      "('AB', 'wadah kecil dari timah untuk candu; hap')\n",
      "('AB', 'ayah')\n",
      "Mengambil kata: ab\n",
      "('ab', 'wadah kecil dari timah untuk candu; hap')\n",
      "('ab', 'ayah')\n",
      "Mengambil kata: AB\n",
      "('AB', 'wadah kecil dari timah untuk candu; hap')\n",
      "('AB', 'ayah')\n",
      "Mengambil kata: AB\n",
      "('AB', 'wadah kecil dari timah untuk candu; hap')\n",
      "('AB', 'ayah')\n",
      "Mengambil kata: ab initio\n",
      "Error untuk kata: ab initio\n",
      "Mengambil kata: ab initium\n",
      "Error untuk kata: ab initium\n",
      "Mengambil kata: aba\n",
      "('aba', 'ayah; bapak')\n",
      "Mengambil kata: aba\n",
      "('aba', 'ayah; bapak')\n",
      "Mengambil kata: aba-aba\n",
      "('aba-aba', 'kata perintah dalam baris-berbaris, gerak badan, dsb (seperti si...ap! maju ja...lan! berhen...ti!)')\n",
      "Mengambil kata: abad\n",
      "('abad', 'masa seratus tahun')\n",
      "('abad', 'bangunan itu diperkirakan dapat bertahan satu abad')\n",
      "('abad', 'jangka waktu yang lamanya seratus tahun')\n",
      "('abad', 'abad ke-20 mulai pada tahun 1901 sampai tahun 2000')\n",
      "('abad', 'zaman (yang lamanya tidak tentu)')\n",
      "('abad', 'masa yang kekal, tidak berkesudahan')\n",
      "Mengambil kata: abad al-ababad keemasan\n",
      "Error untuk kata: abad al-ababad keemasan\n",
      "Mengambil kata: abad komputer\n",
      "('abad komputer', 'zaman modern yang orang-orangnya memanfaatkan komputer dalam menyimpan dan mengolah data')\n",
      "Mengambil kata: abad modern\n",
      "('abad modern', 'masa atau zaman yang ditandai dengan kemajuan peradaban manusia (penemuan baru bidang teknologi dsb)')\n",
      "Mengambil kata: abad Pertengahan\n",
      "('abad Pertengahan', 'kurun waktu sekitar tahun 500&#151;1500 dalam sejarah peradaban atau kebudayaan Eropa Barat')\n",
      "Mengambil kata: abadi\n",
      "('abadi', 'kekal; tidak berkesudahan')\n",
      "('abadi', 'di dunia ini tidak ada yang abadi')\n",
      "Mengambil kata: abadiah\n",
      "('abadiah', 'kekekalan')\n",
      "Mengambil kata: abadiat\n",
      "('abadiat', 'abadiah')\n",
      "Mengambil kata: abah\n",
      "('abah', 'arah; tuju')\n",
      "('abah', 'tidak tentu abah nya')\n",
      "('abah', 'aba')\n",
      "Mengambil kata: abah\n",
      "('abah', 'arah; tuju')\n",
      "('abah', 'tidak tentu abah nya')\n",
      "('abah', 'aba')\n",
      "Mengambil kata: abah-abah\n",
      "('abah-abah', 'alat; perkakas')\n",
      "('abah-abah', 'tali-temali')\n",
      "Mengambil kata: abah-abah\n",
      "('abah-abah', 'alat; perkakas')\n",
      "('abah-abah', 'tali-temali')\n",
      "Mengambil kata: abah-abah\n",
      "('abah-abah', 'alat; perkakas')\n",
      "('abah-abah', 'tali-temali')\n"
     ]
    }
   ],
   "source": [
    "for i in range(0,40):\n",
    "    get_def(cont[i])\n",
    "    time.sleep(2)\n"
   ]
  },
  {
   "cell_type": "code",
   "execution_count": 11,
   "metadata": {},
   "outputs": [],
   "source": [
    "page = requests.get('http://kateglo.com/api.php?format=json&phrase='+\"a fortiori\")"
   ]
  },
  {
   "cell_type": "code",
   "execution_count": 12,
   "metadata": {},
   "outputs": [
    {
     "data": {
      "text/plain": [
       "'<p>Antarmuka pemrograman aplikasi (API) yang (masih) sangat sederhana ini dibuat untuk memungkinkan para pengembang memanfaatkan data yang disediakan oleh Kateglo. Untuk tahap awal, baru modul kamus yang dapat diakses dengan API ini.</p>\\n        <p>Gunakan format</p>\\n        <blockquote>http://kateglo.com/api.php?format=[xml|json]&phrase=[lema_yang_dicari].</blockquote></p>\\n        <p>Contoh:</p>\\n        <blockquote><a href=\"api.php?format=xml&phrase=kata\">http://kateglo.com/api.php?format=xml&phrase=kata</a><br /><a href=\"api.php?format=json&phrase=bahtera\">http://kateglo.com/api.php?format=json&phrase=bahtera</a></blockquote>\\n        <p>Silakan pelajari sendiri dulu keluaran XML atau JSON yang dihasilkan karena dokumentasi masih belum sempat dibuat.</p>\\n        <p>API ini disediakan dengan apa adanya, dan ada kemungkinan akan berubah format.</p><script>\\n\\t  (function(i,s,o,g,r,a,m){i[\\'GoogleAnalyticsObject\\']=r;i[r]=i[r]||function(){\\n\\t  (i[r].q=i[r].q||[]).push(arguments)},i[r].l=1*new Date();a=s.createElement(o),\\n\\t  m=s.getElementsByTagName(o)[0];a.async=1;a.src=g;m.parentNode.insertBefore(a,m)\\n\\t  })(window,document,\\'script\\',\\'//www.google-analytics.com/analytics.js\\',\\'ga\\');\\n\\n\\t  ga(\\'create\\', \\'UA-48896425-1\\', \\'kateglo.com\\');\\n\\t  ga(\\'send\\', \\'pageview\\');\\n\\n\\t</script>'"
      ]
     },
     "execution_count": 12,
     "metadata": {},
     "output_type": "execute_result"
    }
   ],
   "source": [
    "page.text"
   ]
  },
  {
   "cell_type": "code",
   "execution_count": null,
   "metadata": {},
   "outputs": [],
   "source": []
  }
 ],
 "metadata": {
  "kernelspec": {
   "display_name": "Python 3",
   "language": "python",
   "name": "python3"
  },
  "language_info": {
   "codemirror_mode": {
    "name": "ipython",
    "version": 3
   },
   "file_extension": ".py",
   "mimetype": "text/x-python",
   "name": "python",
   "nbconvert_exporter": "python",
   "pygments_lexer": "ipython3",
   "version": "3.6.5"
  }
 },
 "nbformat": 4,
 "nbformat_minor": 2
}
