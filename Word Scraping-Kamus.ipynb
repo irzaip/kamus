{
 "cells": [
  {
   "cell_type": "code",
   "execution_count": 102,
   "metadata": {},
   "outputs": [],
   "source": [
    "import selenium\n",
    "import time\n",
    "from bs4 import BeautifulSoup"
   ]
  },
  {
   "cell_type": "code",
   "execution_count": 2,
   "metadata": {},
   "outputs": [],
   "source": [
    "from selenium import webdriver \n",
    "from selenium.webdriver.common.by import By \n",
    "from selenium.webdriver.support.ui import WebDriverWait \n",
    "from selenium.webdriver.support import expected_conditions as EC \n",
    "from selenium.common.exceptions import TimeoutException"
   ]
  },
  {
   "cell_type": "code",
   "execution_count": 3,
   "metadata": {},
   "outputs": [],
   "source": [
    "option = webdriver.ChromeOptions()\n",
    "#option.add_argument(\"--incognito\")\n",
    "browser = webdriver.Chrome(chrome_options=option)"
   ]
  },
  {
   "cell_type": "code",
   "execution_count": 4,
   "metadata": {},
   "outputs": [],
   "source": [
    "browser.get(\"https://kbbi.kemdikbud.go.id\")"
   ]
  },
  {
   "cell_type": "markdown",
   "metadata": {},
   "source": [
    "# LOGIN"
   ]
  },
  {
   "cell_type": "markdown",
   "metadata": {},
   "source": [
    "#login\n",
    "link = browser.find_element_by_link_text('Masuk')\n",
    "try:\n",
    "    link.click()\n",
    "except:\n",
    "    pass\n",
    "\n",
    "#masuk ke system\n",
    "username=browser.find_element_by_name(\"Posel\")\n",
    "password=browser.find_element_by_name(\"KataSandi\")\n",
    "username.clear()\n",
    "password.clear()\n",
    "username.send_keys(\"mulpoel@gmail.com\")\n",
    "password.send_keys(\"kbbi1001\")\n",
    "\n",
    "masuk = browser.find_elements_by_css_selector(\"#loginForm > form > div:nth-child(6) > div.col-md-offset-2.col-md-1 > input\")\n",
    "masuk[0].click()"
   ]
  },
  {
   "cell_type": "markdown",
   "metadata": {},
   "source": [
    "# LOGOUT"
   ]
  },
  {
   "cell_type": "markdown",
   "metadata": {},
   "source": [
    "#untuk keluar\n",
    "link = browser.find_element_by_link_text('Keluar').click()"
   ]
  },
  {
   "cell_type": "markdown",
   "metadata": {},
   "source": [
    "## ABJAD CRAWLING"
   ]
  },
  {
   "cell_type": "code",
   "execution_count": 53,
   "metadata": {},
   "outputs": [],
   "source": [
    "#klik huruf d\n",
    "browser.get(\"https://kbbi.kemdikbud.go.id\")\n",
    "huruf = browser.find_element_by_link_text(\"D\").click()"
   ]
  },
  {
   "cell_type": "code",
   "execution_count": 33,
   "metadata": {},
   "outputs": [],
   "source": [
    "abjad = [\"A\",\"B\",\"C\",\"D\",\"E\",\"F\",\"G\",\"H\",\"I\",\"J\",\n",
    "         \"K\",\"L\",\"M\",\"N\",\"O\",\"P\",\"Q\",\"R\",\"S\",\"T\",\n",
    "         \"U\",\"V\",\"W\",\"X\",\"Y\",\"Z\"   \n",
    "        ]"
   ]
  },
  {
   "cell_type": "code",
   "execution_count": 27,
   "metadata": {},
   "outputs": [],
   "source": [
    "def load_file(filename):\n",
    "    f = open(filename,'r')\n",
    "    a = f.readlines()\n",
    "    f.close()\n",
    "    for i in a:\n",
    "        print(i.strip())"
   ]
  },
  {
   "cell_type": "code",
   "execution_count": 36,
   "metadata": {},
   "outputs": [],
   "source": [
    "f = browser.find_element_by_id(\"textBoxSearch\")\n",
    "f.clear()\n",
    "f.send_keys(\"sapi\\n\")\n",
    "time.sleep(3)"
   ]
  },
  {
   "cell_type": "code",
   "execution_count": 108,
   "metadata": {},
   "outputs": [],
   "source": []
  },
  {
   "cell_type": "code",
   "execution_count": 90,
   "metadata": {
    "scrolled": true
   },
   "outputs": [],
   "source": [
    "soup = BeautifulSoup(browser.page_source, 'html.parser')"
   ]
  },
  {
   "cell_type": "code",
   "execution_count": 11,
   "metadata": {},
   "outputs": [],
   "source": [
    "#mendapatkan semua class tertentu\n",
    "a = soup.findAll(\"div\", {\"class\": \"col-md-3\"})"
   ]
  },
  {
   "cell_type": "code",
   "execution_count": 38,
   "metadata": {},
   "outputs": [],
   "source": [
    "allwords=[]"
   ]
  },
  {
   "cell_type": "code",
   "execution_count": 97,
   "metadata": {},
   "outputs": [],
   "source": [
    "a = soup.findAll(\"dd\")"
   ]
  },
  {
   "cell_type": "code",
   "execution_count": 131,
   "metadata": {},
   "outputs": [],
   "source": [
    "ss = BeautifulSoup(str(a),\"html.parser\")"
   ]
  },
  {
   "cell_type": "code",
   "execution_count": 132,
   "metadata": {},
   "outputs": [
    {
     "data": {
      "text/plain": [
       "'n'"
      ]
     },
     "execution_count": 132,
     "metadata": {},
     "output_type": "execute_result"
    }
   ],
   "source": [
    "ss.find(\"span\").get_text()"
   ]
  },
  {
   "cell_type": "code",
   "execution_count": 114,
   "metadata": {},
   "outputs": [
    {
     "name": "stdout",
     "output_type": "stream",
     "text": [
      "Loading took too much time!\n"
     ]
    }
   ],
   "source": [
    "delay=3\n",
    "try:\n",
    "    myElem = WebDriverWait(browser, delay).until(EC.presence_of_element_located((By.ID, 'IdOfMyElement')))\n",
    "    print(\"Page is ready!\")\n",
    "except TimeoutException:\n",
    "    print(\"Loading took too much time!\")"
   ]
  },
  {
   "cell_type": "code",
   "execution_count": 90,
   "metadata": {},
   "outputs": [],
   "source": [
    "def leech(tot_page):\n",
    "#leech the pagination\n",
    "    for pg in range(tot_page):\n",
    "\n",
    "        #re-init soup\n",
    "        soup = BeautifulSoup(browser.page_source, 'html.parser')\n",
    "\n",
    "        #mendapatkan semua class tertentu\n",
    "        a = soup.findAll(\"div\", {\"class\": \"col-md-3\"})\n",
    "\n",
    "        #get the content\n",
    "        for i in a:\n",
    "            f = i.get_text()\n",
    "            #print(f.strip())\n",
    "            allwords.append(f.strip())\n",
    "\n",
    "        #bobo dulu\n",
    "        print(\"page-\", pg)\n",
    "        time.sleep(random.randint(3,22))\n",
    "\n",
    "        #next pagination\n",
    "        nx_page = browser.find_element_by_css_selector(\"body > div.container.body-content > div:nth-child(4) > div:nth-child(3) > a:nth-child(1)\")\n",
    "        nx_page.click()"
   ]
  },
  {
   "cell_type": "code",
   "execution_count": 91,
   "metadata": {},
   "outputs": [],
   "source": [
    "def writefile(filename):\n",
    "#write result to textfile\n",
    "    f = open(filename,\"w\")\n",
    "    for i in allwords:\n",
    "        f.newlines\n",
    "        i=r''.join(i)\n",
    "        try:\n",
    "            f.writelines(i+\"\\n\")\n",
    "        except:\n",
    "            pass\n",
    "    f.close()\n",
    "    print(\"Telah di tulis ke file:\", filename)"
   ]
  },
  {
   "cell_type": "markdown",
   "metadata": {},
   "source": [
    "# MAIN FUNCTION"
   ]
  },
  {
   "cell_type": "code",
   "execution_count": 99,
   "metadata": {},
   "outputs": [
    {
     "name": "stdout",
     "output_type": "stream",
     "text": [
      "Ambil abjad: U\n",
      "Total page: 15\n",
      "page- 0\n",
      "page- 1\n",
      "page- 2\n",
      "page- 3\n",
      "page- 4\n",
      "page- 5\n",
      "page- 6\n",
      "page- 7\n",
      "page- 8\n",
      "page- 9\n",
      "page- 10\n",
      "page- 11\n",
      "page- 12\n",
      "page- 13\n",
      "page- 14\n",
      "Telah di tulis ke file: U.txt\n",
      "Ambil abjad: V\n",
      "Total page: 6\n",
      "page- 0\n",
      "page- 1\n",
      "page- 2\n",
      "page- 3\n",
      "page- 4\n",
      "page- 5\n",
      "Telah di tulis ke file: V.txt\n",
      "Ambil abjad: W\n",
      "Total page: 9\n",
      "page- 0\n",
      "page- 1\n",
      "page- 2\n",
      "page- 3\n",
      "page- 4\n",
      "page- 5\n",
      "page- 6\n",
      "page- 7\n",
      "page- 8\n",
      "Telah di tulis ke file: W.txt\n",
      "Ambil abjad: X\n",
      "Total page: 1\n",
      "page- 0\n",
      "Telah di tulis ke file: X.txt\n",
      "Ambil abjad: Y\n",
      "Total page: 2\n",
      "page- 0\n",
      "page- 1\n",
      "Telah di tulis ke file: Y.txt\n",
      "Ambil abjad: Z\n",
      "Total page: 4\n",
      "page- 0\n",
      "page- 1\n",
      "page- 2\n",
      "page- 3\n",
      "Telah di tulis ke file: Z.txt\n"
     ]
    }
   ],
   "source": [
    "# main function to leech page\n",
    "for ab in range(20,26):\n",
    "    allwords=[]\n",
    "    ganti_abjad(abjad[ab])\n",
    "    leech(tot_page)\n",
    "    writefile(str(abjad[ab])+\".txt\")"
   ]
  },
  {
   "cell_type": "code",
   "execution_count": 88,
   "metadata": {},
   "outputs": [
    {
     "data": {
      "text/plain": [
       "16"
      ]
     },
     "execution_count": 88,
     "metadata": {},
     "output_type": "execute_result"
    }
   ],
   "source": [
    "import random\n",
    "random.randint(4,22)"
   ]
  },
  {
   "cell_type": "code",
   "execution_count": 98,
   "metadata": {},
   "outputs": [
    {
     "name": "stdout",
     "output_type": "stream",
     "text": [
      "U\n",
      "V\n",
      "W\n",
      "X\n",
      "Y\n",
      "Z\n"
     ]
    }
   ],
   "source": [
    "for ab in range(20,26):\n",
    "    print(abjad[ab])"
   ]
  },
  {
   "cell_type": "code",
   "execution_count": null,
   "metadata": {},
   "outputs": [],
   "source": []
  }
 ],
 "metadata": {
  "kernelspec": {
   "display_name": "Python 3",
   "language": "python",
   "name": "python3"
  },
  "language_info": {
   "codemirror_mode": {
    "name": "ipython",
    "version": 3
   },
   "file_extension": ".py",
   "mimetype": "text/x-python",
   "name": "python",
   "nbconvert_exporter": "python",
   "pygments_lexer": "ipython3",
   "version": "3.6.4"
  }
 },
 "nbformat": 4,
 "nbformat_minor": 2
}
