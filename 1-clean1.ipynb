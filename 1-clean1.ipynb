{
 "cells": [
  {
   "cell_type": "code",
   "execution_count": 1,
   "metadata": {},
   "outputs": [],
   "source": [
    "import re\n",
    "import nltk\n",
    "import os\n",
    "import glob\n",
    "indir = \"./1scrape\"\n",
    "outdir = \"./clean1\""
   ]
  },
  {
   "cell_type": "code",
   "execution_count": 2,
   "metadata": {},
   "outputs": [],
   "source": [
    "allfile = glob.glob(\".\\\\1scrape/*\")"
   ]
  },
  {
   "cell_type": "code",
   "execution_count": 3,
   "metadata": {},
   "outputs": [],
   "source": [
    "def process(fileproc):\n",
    "    f = open(fileproc,'r')\n",
    "    inbox = f.readlines()\n",
    "\n",
    "    #for idx,i in enumerate(inbox):\n",
    "    #    inbox[idx]=str(i).replace(\"\\n\",\"\")\n",
    "\n",
    "    for idx, i in enumerate(inbox):\n",
    "        inbox[idx]=re.sub(r\"[0-9]\",\"\",i)\n",
    "    \n",
    "    return inbox"
   ]
  },
  {
   "cell_type": "code",
   "execution_count": 4,
   "metadata": {},
   "outputs": [],
   "source": [
    "ind = process(allfile[0])"
   ]
  },
  {
   "cell_type": "code",
   "execution_count": 5,
   "metadata": {},
   "outputs": [],
   "source": [
    "for idx, fn in enumerate(allfile):\n",
    "    #process file\n",
    "    idd = process(fn)\n",
    "    #filename output\n",
    "    fnn = fn.split('\\\\')[-1]\n",
    "    f = open(os.path.join(outdir,fnn),\"w\")\n",
    "    f.writelines(idd)\n",
    "    f.close()"
   ]
  },
  {
   "cell_type": "markdown",
   "metadata": {},
   "source": [
    "#mencari apa ada angka\n",
    "for idx,i in enumerate(inbox):\n",
    "    if [] != re.findall(r\"[0-9]\",i):\n",
    "        print(i)"
   ]
  },
  {
   "cell_type": "code",
   "execution_count": null,
   "metadata": {},
   "outputs": [],
   "source": []
  }
 ],
 "metadata": {
  "kernelspec": {
   "display_name": "Python 3",
   "language": "python",
   "name": "python3"
  },
  "language_info": {
   "codemirror_mode": {
    "name": "ipython",
    "version": 3
   },
   "file_extension": ".py",
   "mimetype": "text/x-python",
   "name": "python",
   "nbconvert_exporter": "python",
   "pygments_lexer": "ipython3",
   "version": "3.6.4"
  }
 },
 "nbformat": 4,
 "nbformat_minor": 2
}
